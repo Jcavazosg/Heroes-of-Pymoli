{
 "cells": [
  {
   "cell_type": "code",
   "execution_count": null,
   "metadata": {},
   "outputs": [],
   "source": [
    "import pandas as pd\n",
    "import numpy as np\n",
    "\n",
    "purchase_data_file = \"purchase_data.csv\"\n",
    "purchase_data_df = pd.read_csv(purchase_data_file)"
   ]
  },
  {
   "cell_type": "code",
   "execution_count": null,
   "metadata": {},
   "outputs": [],
   "source": [
    "purchase_data_df.head()"
   ]
  },
  {
   "cell_type": "markdown",
   "metadata": {},
   "source": [
    "## Player Count"
   ]
  },
  {
   "cell_type": "code",
   "execution_count": null,
   "metadata": {},
   "outputs": [],
   "source": [
    "#Player Count\n",
    "total_players = purchase_data_df[\"SN\"].nunique()\n",
    "number_of_players = pd.DataFrame ({\"Total Players\": [total_players]}, columns = [\"Total Players\"])\n",
    "number_of_players"
   ]
  },
  {
   "cell_type": "markdown",
   "metadata": {},
   "source": [
    "## Purchasing Analysis (Total)"
   ]
  },
  {
   "cell_type": "code",
   "execution_count": null,
   "metadata": {},
   "outputs": [],
   "source": [
    "#Purchasing Analysis (Total)\n",
    "number_of_unique_items = purchase_data_df[\"Item ID\"].nunique()\n",
    "average_purchase_price = purchase_data_df[\"Price\"].mean()\n",
    "total_number_of_purchases = purchase_data_df[\"Price\"].count()\n",
    "total_revenue = purchase_data_df[\"Price\"].sum()\n",
    "\n",
    "purchasing_analysis_df = pd.DataFrame ({    \n",
    "    \"Number of Unique Items\": [number_of_unique_items],\n",
    "    \"Average Purchase Price\": [average_purchase_price],\n",
    "    \"Total Number of Purchases\": [total_number_of_purchases],\n",
    "    \"Total Revenue\": [total_revenue]}, columns= [\"Number of Unique Items\", \"Average Purchase Price\", \"Total Number of Purchases\", \"Total Revenue\"])\n",
    "\n",
    "purchasing_analysis_df = purchasing_analysis_df.style.format({\"Average Purchase Price\":\"${:.2f}\", \"Total Revenue\": \"${:,.2f}\"})\n",
    "\n",
    "purchasing_analysis_df"
   ]
  },
  {
   "cell_type": "markdown",
   "metadata": {},
   "source": [
    "## Gender Demographics"
   ]
  },
  {
   "cell_type": "code",
   "execution_count": null,
   "metadata": {},
   "outputs": [],
   "source": [
    "#Gender Demographics\n",
    "Total_count = purchase_data_df[\"SN\"].nunique()\n",
    "male_count = purchase_data_df[purchase_data_df[\"Gender\"] == \"Male\"][\"SN\"].nunique()\n",
    "female_count = purchase_data_df[purchase_data_df[\"Gender\"] == \"Female\"][\"SN\"].nunique()\n",
    "other_count = Total_count - (male_count + female_count)\n",
    "male_perc = ((male_count/Total_count)*100)\n",
    "female_perc = ((female_count/Total_count)*100)\n",
    "other_perc = ((other_count/Total_count)*100)\n",
    "\n",
    "gender_demographics_df = pd.DataFrame({\"Gender\": [\"Male\", \"Female\", \"Other / Non-Disclosed\"], \"Total Count\": [male_count, female_count, other_count], \n",
    "                                       \"Percentage of Players\": [male_perc, female_perc, other_perc]}, \n",
    "                                      columns = [\"Gender\", \"Total Count\", \"Percentage of Players\"])\n",
    "                                        \n",
    "gender_demographics_df = gender_demographics_df.style.format({\"Percentage of Players\": \"{:.2f}%\"})\n",
    "\n",
    "gender_demographics_df"
   ]
  },
  {
   "cell_type": "markdown",
   "metadata": {},
   "source": [
    "## Purchasing Analysis (Gender)"
   ]
  },
  {
   "cell_type": "code",
   "execution_count": null,
   "metadata": {
    "scrolled": true
   },
   "outputs": [],
   "source": [
    "#Purchasing Analysis (Gender)\n",
    "male_purchase = purchase_data_df[purchase_data_df[\"Gender\"] == \"Male\"][\"Price\"].count()\n",
    "female_purchase = purchase_data_df[purchase_data_df[\"Gender\"] == \"Female\"][\"Price\"].count()\n",
    "other_purchase = total_number_of_purchases - (male_purchase + female_purchase)\n",
    "male_price_avg = purchase_data_df[purchase_data_df[\"Gender\"] == \"Male\"]['Price'].mean()\n",
    "female_price_avg = purchase_data_df[purchase_data_df[\"Gender\"] == \"Female\"]['Price'].mean()\n",
    "other_price_avg = purchase_data_df[purchase_data_df[\"Gender\"] == \"Other / Non-Disclosed\"]['Price'].mean()\n",
    "\n",
    "male_price_tot = purchase_data_df[purchase_data_df[\"Gender\"] == \"Male\"]['Price'].sum()\n",
    "female_price_tot = purchase_data_df[purchase_data_df[\"Gender\"] == \"Female\"]['Price'].sum()\n",
    "other_price_tot = purchase_data_df[purchase_data_df[\"Gender\"] == \"Other / Non-Disclosed\"]['Price'].sum()\n",
    "\n",
    "male_avg = male_price_tot/male_count\n",
    "female_avg = female_price_tot/female_count\n",
    "other_avg = other_price_tot/other_count\n",
    "\n",
    "gender_purchase_df = pd.DataFrame({\"Gender\": [\"Male\", \"Female\", \"Other / Non-Disclosed\"], \"Purchase Count\": [male_purchase, female_purchase, other_purchase],\n",
    "                                        \"Average Purchase Price\": [male_price_avg, female_price_avg, other_price_avg], \"Total Purchase Value\": [male_price_tot, female_price_tot, other_price_tot],\n",
    "                                \"Average Total Purchase per Person\": [male_avg, female_avg, other_avg]}, columns = \n",
    "                                        [\"Gender\", \"Purchase Count\", \"Average Purchase Price\", \"Total Purchase Value\", \"Average Total Purchase per Person\"])\n",
    "                                        \n",
    "gender_purchase_df = gender_purchase_final = gender_purchase_df.set_index(\"Gender\")\n",
    "gender_purchase_df =gender_purchase_final.style.format({\"Average Purchase Price\": \"${:,.2f}\", \"Total Purchase Value\": \"${:,.2f}\", \"Average Total Purchase per Person\": \"${:,.2f}\"})\n",
    "                                   \n",
    "gender_purchase_df"
   ]
  },
  {
   "cell_type": "markdown",
   "metadata": {},
   "source": [
    "## Age Demographics"
   ]
  },
  {
   "cell_type": "code",
   "execution_count": null,
   "metadata": {},
   "outputs": [],
   "source": [
    "#Age Demographics\n",
    "age_df = pd.DataFrame(purchase_data_df)\n",
    "group_names = ['<10', '10-14', '15-19', '20-24', '25-29', '30-34', '35-39', '40+']\n",
    "bins = [0, 9, 14, 19, 24, 29, 34, 39, 100]\n",
    "\n",
    "age_demo_grp = age_df.groupby(pd.cut(age_df[\"Age\"], bins, labels=group_names))\n",
    "\n",
    "# Create the names for the four bins\n",
    "age_demo_df = pd.DataFrame({\"Purchase Count\":age_demo_grp[\"Price\"].count(), \"Average Purchase Price\":age_demo_grp[\"Price\"].mean(),\"Total Purchase Value\":age_demo_grp[\"Price\"].sum(),\"Normalized Totals\":age_demo_grp[\"Price\"].sum()/age_demo_grp[\"SN\"].nunique()})\n",
    "age_demo_df[\"Average Purchase Price\"] = age_demo_df[\"Average Purchase Price\"].map(\"${:.2f}\".format)\n",
    "age_demo_df[\"Total Purchase Value\"] = age_demo_df[\"Total Purchase Value\"].map(\"${:,.2f}\".format)\n",
    "age_demo_df[\"Average Purchase Total per Person by Age Group\"] = age_demo_df[\"Normalized Totals\"].map(\"${:,.2f}\".format)\n",
    "age_demo_df.drop([\"Normalized Totals\"], axis=1, inplace=True)\n",
    "\n",
    "\n",
    "\n",
    "age_demo_df"
   ]
  },
  {
   "cell_type": "markdown",
   "metadata": {},
   "source": [
    "## Top Spenders"
   ]
  },
  {
   "cell_type": "code",
   "execution_count": null,
   "metadata": {
    "scrolled": false
   },
   "outputs": [],
   "source": [
    "#Top Spenders\n",
    "spenders_df = pd.DataFrame(purchase_data_df)\n",
    "\n",
    "top_spenders_grp = spenders_df.groupby(['SN'])\n",
    "top_spenders_df = pd.DataFrame({\"Purchase Count\":top_spenders_grp[\"Price\"].count(), \"Average Purchase Price\":top_spenders_grp[\"Price\"].mean(),\"Total Purchase Value\":top_spenders_grp[\"Price\"].sum()})\n",
    "top_spenders_df = top_spenders_df.sort_values(\"Total Purchase Value\", ascending=False)\n",
    "top_spenders_df[\"Average Purchase Price\"] = top_spenders_df[\"Average Purchase Price\"].map(\"${:.2f}\".format)\n",
    "top_spenders_df[\"Total Purchase Value\"] = top_spenders_df[\"Total Purchase Value\"].map(\"${:,.2f}\".format)\n",
    "\n",
    "top_spenders_df.head()"
   ]
  },
  {
   "cell_type": "markdown",
   "metadata": {},
   "source": [
    "## Most Popular Items"
   ]
  },
  {
   "cell_type": "code",
   "execution_count": null,
   "metadata": {},
   "outputs": [],
   "source": [
    "#Most Popular Items\n",
    "popular_df = pd.DataFrame(purchase_data_df)\n",
    "\n",
    "popular_items_grp = popular_df.groupby(['Item ID','Item Name'])\n",
    "\n",
    "popular_items_df = pd.DataFrame({\"Purchase Count\":popular_items_grp[\"Price\"].count(), \"Item Price\":popular_items_grp[\"Price\"].mean(),\"Total Purchase Value\":popular_items_grp[\"Price\"].sum()})\n",
    "\n",
    "popular_items_df = popular_items_df.sort_values(\"Purchase Count\", ascending=False)\n",
    "\n",
    "popular_items_df[\"Item Price\"] = popular_items_df[\"Item Price\"].map(\"${:.2f}\".format)\n",
    "popular_items_df[\"Total Purchase Value\"] = popular_items_df[\"Total Purchase Value\"].map(\"${:,.2f}\".format)\n",
    "\n",
    "\n",
    "popular_items_df.head()"
   ]
  },
  {
   "cell_type": "markdown",
   "metadata": {},
   "source": [
    "## Most Profitable Items"
   ]
  },
  {
   "cell_type": "code",
   "execution_count": null,
   "metadata": {},
   "outputs": [],
   "source": [
    "#Most Profitable Items\n",
    "most_profit_df = pd.DataFrame(purchase_data_df)\n",
    "\n",
    "most_profit_group = most_profit_df.groupby(['Item ID','Item Name'])\n",
    "most_profit_df = pd.DataFrame({\"Purchase Count\":most_profit_group[\"Price\"].count(), \"Item Price\":most_profit_group[\"Price\"].mean(),\"Total Purchase Value\":most_profit_group[\"Price\"].sum()})\n",
    "most_profit_df = most_profit_df.sort_values(\"Total Purchase Value\", ascending=False)\n",
    "most_profit_df[\"Item Price\"] = most_profit_df[\"Item Price\"].map(\"${:.2f}\".format)\n",
    "most_profit_df[\"Total Purchase Value\"] = most_profit_df[\"Total Purchase Value\"].map(\"${:,.2f}\".format)\n",
    "\n",
    "most_profit_df.head()"
   ]
  },
  {
   "cell_type": "raw",
   "metadata": {},
   "source": [
    "Heroes Of Pymoli Data Analysis:\n",
    "\n",
    "1. Based on the data analyzed we can see that males create more revenue (almost 6x more than females). \n",
    "\n",
    "2. We can also observe that the most profitable age group is 20-24. \n",
    "\n",
    "3. We can also see that out of the top five favorites items, three of them are the most profitable. \n",
    "\n",
    "Based on this data, I would say that the best group to target adverting to increase sales is to males. More specifically in the ages of 20-24. \n",
    "\n"
   ]
  }
 ],
 "metadata": {
  "kernelspec": {
   "display_name": "Conda [PythonData]",
   "language": "python",
   "name": "pythondata"
  },
  "language_info": {
   "codemirror_mode": {
    "name": "ipython",
    "version": 3
   },
   "file_extension": ".py",
   "mimetype": "text/x-python",
   "name": "python",
   "nbconvert_exporter": "python",
   "pygments_lexer": "ipython3",
   "version": "3.7.3"
  }
 },
 "nbformat": 4,
 "nbformat_minor": 2
}
